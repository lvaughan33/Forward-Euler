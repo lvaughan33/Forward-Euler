{
 "cells": [
  {
   "cell_type": "markdown",
   "metadata": {},
   "source": [
    "# Forward Euler\n",
    "\n",
    "Author: Luke Vaughan\n",
    "<br>\n",
    "MATH 315 Differential Equations\n",
    "<br>\n",
    "WSU Vancouver\n",
    "<br>\n",
    "Spring 2023\n",
    "<br>\n",
    "$\\textbf{____________________________________________________________________________________________________________________}$"
   ]
  },
  {
   "cell_type": "markdown",
   "metadata": {},
   "source": [
    "#### Problem Stated in General Form\n",
    "\n",
    "Solve an initial value problem (IVP) of the form \n",
    "\n",
    "$$\\begin{align*}\n",
    "\\frac{dy}{dt} & = f(t,y) \\; \\; \\; \\; \\; \\; \\; \\; a \\leq t \\leq b \\\\\n",
    "y(a) & = y_0\n",
    "\\end{align*}\n",
    "$$\n",
    "\n",
    "where the right-hand side, $f(t,y)$, is an expression in $t$ and $y$. We are seeking a solution over the interval $a \\leq t \\leq b $ given the initial condition $y(a) = y_0$.\n",
    "\n",
    "**Example:** Given the IVP\n",
    "\n",
    "$$\n",
    "\\begin{align*}\n",
    "\\frac{dy}{dt} & = \\frac{t^2 + 1}{e^y} \\; \\; \\; \\; \\; \\; \\; \\; 0 \\leq t \\leq 20 \\\\\n",
    "y(0) & = \\ln 2\n",
    "\\end{align*}\n",
    "$$\n",
    "\n",
    "we have \n",
    "\n",
    "$$f(t,y) = \\frac{t^2 + 1}{e^y}$$\n",
    "\n",
    "which gives us a separable differential equation. \n",
    "\n",
    "#### Direct Approach\n",
    "\n",
    "The **exact solution** is found below.\n",
    "\n",
    "$$\n",
    "\\begin{align*}\n",
    "\\frac{dy}{dt} & = \\frac{t^2 + 1}{e^y} \\\\\n",
    "e^y dy & = (t^2 + 1)dt \\\\\n",
    "\\color{red}{\\int} \\color{black}{e^y dy} & = \\color{red}{\\int} \\color{black}{(t^2 + 1)dt} \\\\\n",
    "e^y & = \\frac{t^3}{3} + t + C \\\\ \n",
    "\\color{red}{\\ln \\biggr(} \\color{black}{e^y} \\color{red}{\\biggr)} & = \\color{red}{\\ln \\biggr(} \\color{black}{\\frac{t^3}{3} + t + C} \\color{red}{\\biggr)} \\\\\n",
    "y & = \\ln \\biggr(\\frac{t^3}{3} + t + C \\biggr)\n",
    "\\end{align*}\n",
    "$$\n",
    "\n",
    "The initial condition $y(\\color{blue}{0}\\color{black}{)} = \\color{blue}{\\ln 2}$ gives us\n",
    "\n",
    "$$\n",
    "\\begin{align*}\n",
    "\\color{blue}{\\ln 2} & = \\ln \\biggr(\\frac{(\\color{blue}{0})^{\\color{black}{3}}}{\\color{black}{3}} \\color{black}{+} \\color{blue}{0} \\color{black}{+ C} \\biggr) \\\\\n",
    "\\ln 2 & = \\ln C \\\\\n",
    "\\color{red}{e}^{\\color{black}{\\ln 2}} & = \\color{red}{e}^{\\color{black}{\\ln C}} \\\\\n",
    "2 & = C\n",
    "\\end{align*}\n",
    "$$\n",
    "\n",
    "so the exact solution is\n",
    "\n",
    "$$y = \\ln \\biggr(\\frac{t^3}{3} + t + 2 \\biggr)$$\n",
    "\n",
    "which is plotted below."
   ]
  },
  {
   "cell_type": "code",
   "execution_count": 1,
   "metadata": {},
   "outputs": [],
   "source": [
    "import numpy as np\n",
    "import matplotlib.pyplot as plt\n",
    "import math"
   ]
  },
  {
   "cell_type": "code",
   "execution_count": 2,
   "metadata": {},
   "outputs": [],
   "source": [
    "#Define function: solution y    \n",
    "    \n",
    "def y(t):\n",
    "    return math.log(t**3/3 + t + 2)\n",
    "\n",
    "ts = np.linspace(-1,21,100) #ind var vector\n",
    "\n",
    "ys = np.zeros(100) #dep var vector\n",
    "\n",
    "#Call function to fill dep var vector in loop\n",
    "\n",
    "for i in range(len(ys)):\n",
    "    ys[i] = y(ts[i]) "
   ]
  },
  {
   "cell_type": "code",
   "execution_count": 3,
   "metadata": {},
   "outputs": [
    {
     "data": {
      "image/png": "[encoded data removed]",
      "text/plain": [
       "<Figure size 432x288 with 1 Axes>"
      ]
     },
     "metadata": {
      "needs_background": "light"
     },
     "output_type": "display_data"
    }
   ],
   "source": [
    "#Plot exact solution\n",
    "\n",
    "plt.plot(ts, ys, color = 'black', linewidth = 3, label = 'Exact Solution')\n",
    "\n",
    "plt.xticks(np.linspace(0,20,11))\n",
    "plt.yticks(np.linspace(0,20,11))\n",
    "plt.xticks(fontsize = 15)\n",
    "plt.yticks(fontsize = 15)\n",
    "plt.xlim(-1,21)\n",
    "plt.ylim(-1,10)\n",
    "\n",
    "plt.xlabel('$t$', fontsize = 20)\n",
    "plt.ylabel('$y$', fontsize = 20)\n",
    "plt.title('Solution to IVP', fontsize = 22)\n",
    "\n",
    "plt.axhline(y = 0, color = 'black') \n",
    "plt.axvline(x = 0, color = 'black') \n",
    "\n",
    "legend = plt.legend(prop = {'size': 15}, loc = 'lower right', bbox_to_anchor=(1.0, 0.5))\n",
    "legend.set_bbox_to_anchor((1.0, 0.1))"
   ]
  },
  {
   "cell_type": "markdown",
   "metadata": {},
   "source": [
    "Summary: the **exact solution** to the IVP\n",
    "\n",
    "$$\n",
    "\\begin{align*}\n",
    "\\frac{dy}{dt} & = \\frac{t^2 + 1}{e^y} \\; \\; \\; \\; \\; \\; \\; \\; 0 \\leq t \\leq 20 \\\\\n",
    "y(0) & = \\ln 2\n",
    "\\end{align*}\n",
    "$$\n",
    "\n",
    "is given as \n",
    "\n",
    "$$y = \\ln \\biggr(\\frac{t^3}{3} + t + 2 \\biggr)$$"
   ]
  },
  {
   "cell_type": "markdown",
   "metadata": {},
   "source": [
    "#### Numerical Method\n",
    "\n",
    "Given a function $g(t)$, its Taylor series expansion centered at $t = t_0$ is \n",
    "\n",
    "$$g(t) = g(t_0) + g'(t_0)\\big(t - t_0\\big) + \\frac{g''(t_0)}{2!}\\big(t - t_0\\big)^2 + \\frac{g'''(t_0)}{3!}\\big(t - t_0\\big)^3 + ... \\; \\; \\; \\; \\; \\; \\; \\; (*)$$\n",
    "\n",
    "which we can use to derive numerical methods. Evaluate the Taylor series at $\\color{blue}{t} \\color{black}{=} \\color{blue}{t_0 + h}$ (where $h$ is a small step away from $t_0$) to obtain\n",
    " \n",
    "$$\n",
    "\\begin{align*}\n",
    "g(\\color{blue}{t_0 + h}) & = g(t_0) + g'(t_0)\\big(\\color{blue}{t_0 + h} \\color{black}{- t_0\\big) + \\frac{g''(t_0)}{2!}\\big(}\\color{blue}{t_0 + h} \\color{black}{- t_0\\big)^2 + \\frac{g'''(t_0)}{3!}\\big(}\\color{blue}{t_0 + h} \\color{black}{- t_0\\big)^3 + ...} \\\\\n",
    "g(t_0 + h) & = g(t_0) + g'(t_0)\\big(h\\big) + \\frac{g''(t_0)}{2!}\\big(h\\big)^2 + \\frac{g'''(t_0)}{3!}\\big(h\\big)^3 + ...\n",
    "\\end{align*}\n",
    "$$\n",
    "\n",
    "which can be rewritten as \n",
    "\n",
    "$$g(t_0 + h) = g(t_0) + h g'(t_0) + \\frac{h^2}{2!} g''(t_0) + \\frac{h^3}{3!} g'''(t_0) + ... \\; \\; \\; \\; \\; \\; \\; \\; (**)$$\n",
    "\n",
    "If we replace $g(t)$ with $y(t)$, the function that satisfies a given differential equation, we get\n",
    "\n",
    "$$y(t_0 + h) = y(t_0) + h y'(t_0) + \\frac{h^2}{2!} y''(t_0) + \\frac{h^3}{3!} y'''(t_0) + ...$$\n",
    "\n",
    "and if we drop the higher-order terms (for sufficiently small $h$), we obtain\n",
    "\n",
    "$$y(t_0 + h) \\approx y(t_0) + h y'(t_0) \\; \\; \\; \\; \\; \\; \\; \\; (1)$$\n",
    "\n",
    "The transition from $=$ to $\\approx$ is noteworthy. We are deriving a **numerical approximation**. \n",
    "\n",
    "The value $y(t_0)$ corresponds to the point $(t_0, y_0)$. So we can denote $y(t_0)$ as $y_0$. Also, recall that the differential equation (see \"Problem Stated in General Form\" above) is given as \n",
    "\n",
    "$$\\frac{dy}{dt} = f(t,y)$$\n",
    "\n",
    "which can be rewritten as \n",
    "\n",
    "$$y'(t) = f\\big(t,y(t)\\big)$$\n",
    "\n",
    "which can be evaluated at $t = t_0$: \n",
    "\n",
    "$$y'(t)\\biggr|_{t_0} = f\\big(t,y(t)\\big)\\biggr|_{t_0}$$\n",
    "\n",
    "$$y'(t_0) = f\\big(t_0,y(t_0)\\big)$$\n",
    "\n",
    "$$y'(t_0) = f\\big(t_0,y_0\\big)$$\n",
    "\n",
    "Therefore, Eq. (1) can be rewritten as \n",
    "\n",
    "$$y(t_0 + h) \\approx y_0 + h f\\big(t_0,y_0\\big) \\; \\; \\; \\; \\; \\; \\; \\; (2)$$\n",
    "\n",
    "We have three scalars on the right-hand side of Eq. (2). We are given the value for $y_0$ (the initial condition) in the IVP. The value for $h$ (the step size) is chosen by the mathematician. The value for $f(t_0,y_0)$ is the slope of the tangent line at the point $(t_0,y_0)$.\n",
    "\n",
    "Eq. (2) gives us an approximation for the value of the solution $y$ after taking a small step $h$ away from the starting position $t_0$. In other words, given the point $(t_0,y_0)$, Eq. (2) gives us another point $(t_1,y_1)$. So Eq. (2) can be rewritten as \n",
    "\n",
    "$$y_1 = y_0 + h f\\big(t_0,y_0\\big) \\; \\; \\; \\; \\; \\; \\; \\; (3)$$\n",
    "\n",
    "where we have made the transition from $\\approx$ back to $=$ since the equation is verbally stated to be an approximation.\n",
    "\n",
    "Let $t_i = a + ih$ (where $i = 0, 1, 2, ..., n$). If $t$ represents time, we say that we have $n$ \"time steps\" with equal spacing $h$. So we have\n",
    "\n",
    "$$h = \\frac{b - a}{n}$$\n",
    "\n",
    "giving us known values in the set $\\big\\{a = t_0, t_1, t_2, ..., t_n = b\\big\\}$. The goal is to find unknown values in the set $\\big\\{y_0, y_1, y_2, ..., y_n\\big\\}$.\n",
    "\n",
    "Since we can center the Taylor series wherever we want (at $t = t_i$), we can generalize/extend Eq. (3) to any two points $(t_i,y_i)$ and $(t_{i+1},y_{i+1})$. Generalizing Eq. (3) give us the algorithm\n",
    "\n",
    "$$y_{i+1} = y_i + h f\\big(t_i,y_i\\big) \\; \\; \\; \\; \\; \\; \\; \\; (4)$$\n",
    "\n",
    "where Eq. (4) is called **Forward Euler**. The derivation for the numerical method is complete. \n",
    "\n",
    "Use Forward Euler on the IVP above."
   ]
  },
  {
   "cell_type": "code",
   "execution_count": 4,
   "metadata": {},
   "outputs": [],
   "source": [
    "#Right-hand side of differential equation in IVP above\n",
    "\n",
    "def f(t,y):\n",
    "    return (t**2 + 1)/(np.exp(y))"
   ]
  },
  {
   "cell_type": "code",
   "execution_count": 5,
   "metadata": {},
   "outputs": [
    {
     "name": "stdout",
     "output_type": "stream",
     "text": [
      "Number of time steps =  40\n",
      "Step size h =  0.5\n",
      "Length of tvec =  41\n",
      "Length of yvec =  41\n"
     ]
    }
   ],
   "source": [
    "#Parameters\n",
    "\n",
    "a = 0                    #left endpoint\n",
    "b = 20                   #right endpoint\n",
    "n = 40                   #number of time steps: increase to improve numerical approximation\n",
    "h = (b - a)/n            #step size\n",
    "\n",
    "print('Number of time steps = ', n)\n",
    "print('Step size h = ', h)\n",
    "\n",
    "#Vectors: t values and approximations for y \n",
    "\n",
    "tvec = np.linspace(0,20,n+1)        \n",
    "yvec = np.zeros(n+1)  \n",
    "\n",
    "print('Length of tvec = ',len(tvec))\n",
    "print('Length of yvec = ',len(yvec))"
   ]
  },
  {
   "cell_type": "code",
   "execution_count": 6,
   "metadata": {},
   "outputs": [
    {
     "name": "stdout",
     "output_type": "stream",
     "text": [
      "Approximations in yvec:  [0.69314718 0.94314718 1.18652243 1.49180348 1.85737415 2.247579\n",
      " 2.63057731 2.99076162 3.32366225 3.62983797 3.91161808 4.17172338\n",
      " 4.41274921 4.63700264 4.84647728 5.04287737 5.22765597 5.40205386\n",
      " 5.56713424 5.72381229 5.87287973 6.0150249  6.15084934 6.28088124\n",
      " 6.40558661 6.52537841 6.64062413 6.75165213 6.85875688 6.96220342\n",
      " 7.0622311  7.15905675 7.25287741 7.34387261 7.4322064  7.51802902\n",
      " 7.60147845 7.68268166 7.76175577 7.838809   7.91394159]\n"
     ]
    }
   ],
   "source": [
    "#Initial condition\n",
    "\n",
    "tprev = 0                #t_0\n",
    "yprev = math.log(2)      #y_0\n",
    "\n",
    "#Initialize yvec\n",
    "\n",
    "yvec[0] = yprev          #first value in yvec\n",
    "\n",
    "#Use a for loop to implement Forward Euler\n",
    "\n",
    "for i in range(len(tvec)-1):\n",
    "    \n",
    "    ynext = yprev + h*f(tprev,yprev)     #Forward Euler\n",
    "    yvec[i+1] = ynext                    #put the next value y_(i+1) in yvec\n",
    "    \n",
    "    tprev = tprev + h                    #increase t_i by h\n",
    "    yprev = ynext                        #set the stage to repeat Forward Euler\n",
    "    \n",
    "print('Approximations in yvec: ',yvec)"
   ]
  },
  {
   "cell_type": "code",
   "execution_count": 7,
   "metadata": {},
   "outputs": [
    {
     "data": {
      "image/png": "[encoded data removed]",
      "text/plain": [
       "<Figure size 432x288 with 1 Axes>"
      ]
     },
     "metadata": {
      "needs_background": "light"
     },
     "output_type": "display_data"
    }
   ],
   "source": [
    "#Plot exact solution and numerical approximation\n",
    "\n",
    "plt.plot(ts, ys, color = 'black', linewidth = 3, label = 'Exact Solution')\n",
    "plt.plot(tvec, yvec, color = 'red', marker='o', linestyle='-', markersize = 10, linewidth = 3, label = 'Numerical Approximation')\n",
    "\n",
    "plt.xticks(np.linspace(0,20,11))\n",
    "plt.yticks(np.linspace(0,20,11))\n",
    "plt.xticks(fontsize = 15)\n",
    "plt.yticks(fontsize = 15)\n",
    "plt.xlim(-1,21)\n",
    "plt.ylim(-1,10)\n",
    "\n",
    "plt.xlabel('$t$', fontsize = 20)\n",
    "plt.ylabel('$y$', fontsize = 20)\n",
    "plt.title('Solution to IVP', fontsize = 22)\n",
    "\n",
    "plt.axhline(y = 0, color = 'black') \n",
    "plt.axvline(x = 0, color = 'black') \n",
    "\n",
    "legend = plt.legend(prop = {'size': 15}, loc = 'lower right', bbox_to_anchor=(1.0, 0.5))\n",
    "legend.set_bbox_to_anchor((1.0, 0.1))"
   ]
  }
 ],
 "metadata": {
  "kernelspec": {
   "display_name": "Python 3",
   "language": "python",
   "name": "python3"
  },
  "language_info": {
   "codemirror_mode": {
    "name": "ipython",
    "version": 3
   },
   "file_extension": ".py",
   "mimetype": "text/x-python",
   "name": "python",
   "nbconvert_exporter": "python",
   "pygments_lexer": "ipython3",
   "version": "3.8.5"
  }
 },
 "nbformat": 4,
 "nbformat_minor": 4
}
